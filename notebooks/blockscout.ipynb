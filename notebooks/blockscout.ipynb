{
 "cells": [
  {
   "cell_type": "code",
   "execution_count": 8,
   "metadata": {},
   "outputs": [],
   "source": [
    "import requests\n",
    "import pandas as pd\n",
    "\n",
    "import plotly.io as pio\n",
    "from plotly.subplots import make_subplots\n",
    "import plotly.graph_objects as go\n",
    "import plotly.express as px"
   ]
  },
  {
   "cell_type": "code",
   "execution_count": 15,
   "metadata": {},
   "outputs": [],
   "source": [
    "base_url = \"https://base-sepolia.blockscout.com/api/v2/addresses/0xa4e91145fd2370eca42186b9614ae3df398832cd/internal-transactions?filter=to%20%7C%20from\"\n",
    "op_url = \"https://optimism-sepolia.blockscout.com/api/v2/addresses/0x3e6f168587f9721a31f2fa1a560e6ab36d3b8c69/internal-transactions?filter=to%20%7C%20from\"\n",
    "node_url = \"https://optimism-sepolia.blockscout.com/api/v2/addresses/0x35686511f74190b39683f4eb6a35231674a580b1/internal-transactions?filter=to%20%7C%20from\"\n",
    "\n",
    "# Make the GET request for base\n",
    "base_response = requests.get(base_url)\n",
    "# Make the GET request for op\n",
    "op_response = requests.get(op_url)\n",
    "\n",
    "# Make the GET request for node\n",
    "node_response = requests.get(node_url)\n",
    "\n",
    "# Function to extract success and timestamp from the JSON data\n",
    "def extract_success_timestamp(data):\n",
    "    items = data.get('items', [])\n",
    "    records = []\n",
    "    for item in items:\n",
    "        success = item.get('success', None)\n",
    "        timestamp = item.get('timestamp', None)\n",
    "        records.append({'success': success, 'timestamp': timestamp})\n",
    "    return records\n",
    "\n",
    "# Helper function to process the response\n",
    "def process_response(response):\n",
    "    if response.status_code == 200:\n",
    "        try:\n",
    "            data = response.json()  # Attempt to parse JSON\n",
    "            return extract_success_timestamp(data)\n",
    "        except requests.exceptions.JSONDecodeError:\n",
    "            print(f\"Error: Response is not in JSON format. Content: {response.text}\")\n",
    "            return None\n",
    "    else:\n",
    "        print(f\"Error: Received status code {response.status_code}. Content: {response.text}\")\n",
    "        return None\n",
    "\n",
    "# Extract data from base response\n",
    "base_records = process_response(base_response)\n",
    "\n",
    "# Extract data from op response\n",
    "op_records = process_response(op_response)\n",
    "\n",
    "# Extract data from node response\n"
   ]
  },
  {
   "cell_type": "code",
   "execution_count": 16,
   "metadata": {},
   "outputs": [],
   "source": [
    "node_records = process_response(node_response)"
   ]
  },
  {
   "cell_type": "code",
   "execution_count": 17,
   "metadata": {},
   "outputs": [],
   "source": [
    "base_consumer = pd.DataFrame(base_records)\n",
    "op_consumer = pd.DataFrame(op_records)\n",
    "node = pd.DataFrame(node_records)"
   ]
  },
  {
   "cell_type": "code",
   "execution_count": 20,
   "metadata": {},
   "outputs": [
    {
     "data": {
      "text/plain": [
       "{'items': [], 'next_page_params': None}"
      ]
     },
     "execution_count": 20,
     "metadata": {},
     "output_type": "execute_result"
    }
   ],
   "source": [
    "node_response.json()"
   ]
  },
  {
   "cell_type": "code",
   "execution_count": 11,
   "metadata": {},
   "outputs": [
    {
     "name": "stdout",
     "output_type": "stream",
     "text": [
      "                      timestamp  call_success  call_fail\n",
      "0   2024-08-09T04:13:32.000000Z             1          0\n",
      "1   2024-08-09T04:13:20.000000Z             1          0\n",
      "2   2024-08-08T06:03:16.000000Z             1          0\n",
      "3   2024-08-08T06:03:06.000000Z             1          0\n",
      "4   2024-08-08T05:55:04.000000Z             1          0\n",
      "5   2024-08-08T05:54:54.000000Z             1          0\n",
      "6   2024-08-08T05:10:04.000000Z             1          0\n",
      "7   2024-08-08T05:09:54.000000Z             1          0\n",
      "8   2024-08-08T05:00:00.000000Z             1          0\n",
      "9   2024-08-08T04:59:42.000000Z             1          0\n",
      "10  2024-08-08T03:43:52.000000Z             1          0\n"
     ]
    }
   ],
   "source": [
    "base_consumer['call_success'] = base_consumer['success'].apply(lambda x: 1 if x else 0)\n",
    "base_consumer['call_fail'] = base_consumer['success'].apply(lambda x: 0 if x else 1)\n",
    "\n",
    "# Drop the original 'success' column if no longer needed\n",
    "base_consumer = base_consumer.drop(columns=['success'])\n",
    "\n",
    "print(base_consumer)"
   ]
  },
  {
   "cell_type": "code",
   "execution_count": 12,
   "metadata": {},
   "outputs": [],
   "source": [
    "op_consumer['call_success'] = op_consumer['success'].apply(lambda x: 1 if x else 0)\n",
    "op_consumer['call_fail'] = op_consumer['success'].apply(lambda x: 0 if x else 1)\n",
    "\n",
    "# Drop the original 'success' column if no longer needed\n",
    "op_consumer = op_consumer.drop(columns=['success'])"
   ]
  },
  {
   "cell_type": "code",
   "execution_count": 14,
   "metadata": {},
   "outputs": [
    {
     "data": {
      "text/html": [
       "<div>\n",
       "<style scoped>\n",
       "    .dataframe tbody tr th:only-of-type {\n",
       "        vertical-align: middle;\n",
       "    }\n",
       "\n",
       "    .dataframe tbody tr th {\n",
       "        vertical-align: top;\n",
       "    }\n",
       "\n",
       "    .dataframe thead th {\n",
       "        text-align: right;\n",
       "    }\n",
       "</style>\n",
       "<table border=\"1\" class=\"dataframe\">\n",
       "  <thead>\n",
       "    <tr style=\"text-align: right;\">\n",
       "      <th></th>\n",
       "    </tr>\n",
       "  </thead>\n",
       "  <tbody>\n",
       "  </tbody>\n",
       "</table>\n",
       "</div>"
      ],
      "text/plain": [
       "Empty DataFrame\n",
       "Columns: []\n",
       "Index: []"
      ]
     },
     "execution_count": 14,
     "metadata": {},
     "output_type": "execute_result"
    }
   ],
   "source": [
    "node"
   ]
  },
  {
   "cell_type": "code",
   "execution_count": 13,
   "metadata": {},
   "outputs": [
    {
     "ename": "KeyError",
     "evalue": "'success'",
     "output_type": "error",
     "traceback": [
      "\u001b[1;31m---------------------------------------------------------------------------\u001b[0m",
      "\u001b[1;31mKeyError\u001b[0m                                  Traceback (most recent call last)",
      "Cell \u001b[1;32mIn[13], line 1\u001b[0m\n\u001b[1;32m----> 1\u001b[0m node[\u001b[38;5;124m'\u001b[39m\u001b[38;5;124mcall_success\u001b[39m\u001b[38;5;124m'\u001b[39m] \u001b[38;5;241m=\u001b[39m \u001b[43mnode\u001b[49m\u001b[43m[\u001b[49m\u001b[38;5;124;43m'\u001b[39;49m\u001b[38;5;124;43msuccess\u001b[39;49m\u001b[38;5;124;43m'\u001b[39;49m\u001b[43m]\u001b[49m\u001b[38;5;241m.\u001b[39mapply(\u001b[38;5;28;01mlambda\u001b[39;00m x: \u001b[38;5;241m1\u001b[39m \u001b[38;5;28;01mif\u001b[39;00m x \u001b[38;5;28;01melse\u001b[39;00m \u001b[38;5;241m0\u001b[39m)\n\u001b[0;32m      2\u001b[0m node[\u001b[38;5;124m'\u001b[39m\u001b[38;5;124mcall_fail\u001b[39m\u001b[38;5;124m'\u001b[39m] \u001b[38;5;241m=\u001b[39m node[\u001b[38;5;124m'\u001b[39m\u001b[38;5;124msuccess\u001b[39m\u001b[38;5;124m'\u001b[39m]\u001b[38;5;241m.\u001b[39mapply(\u001b[38;5;28;01mlambda\u001b[39;00m x: \u001b[38;5;241m0\u001b[39m \u001b[38;5;28;01mif\u001b[39;00m x \u001b[38;5;28;01melse\u001b[39;00m \u001b[38;5;241m1\u001b[39m)\n\u001b[0;32m      4\u001b[0m \u001b[38;5;66;03m# Drop the original 'success' column if no longer needed\u001b[39;00m\n",
      "File \u001b[1;32me:\\Projects\\liquid_domains\\liquid_domains_env\\Lib\\site-packages\\pandas\\core\\frame.py:4102\u001b[0m, in \u001b[0;36mDataFrame.__getitem__\u001b[1;34m(self, key)\u001b[0m\n\u001b[0;32m   4100\u001b[0m \u001b[38;5;28;01mif\u001b[39;00m \u001b[38;5;28mself\u001b[39m\u001b[38;5;241m.\u001b[39mcolumns\u001b[38;5;241m.\u001b[39mnlevels \u001b[38;5;241m>\u001b[39m \u001b[38;5;241m1\u001b[39m:\n\u001b[0;32m   4101\u001b[0m     \u001b[38;5;28;01mreturn\u001b[39;00m \u001b[38;5;28mself\u001b[39m\u001b[38;5;241m.\u001b[39m_getitem_multilevel(key)\n\u001b[1;32m-> 4102\u001b[0m indexer \u001b[38;5;241m=\u001b[39m \u001b[38;5;28;43mself\u001b[39;49m\u001b[38;5;241;43m.\u001b[39;49m\u001b[43mcolumns\u001b[49m\u001b[38;5;241;43m.\u001b[39;49m\u001b[43mget_loc\u001b[49m\u001b[43m(\u001b[49m\u001b[43mkey\u001b[49m\u001b[43m)\u001b[49m\n\u001b[0;32m   4103\u001b[0m \u001b[38;5;28;01mif\u001b[39;00m is_integer(indexer):\n\u001b[0;32m   4104\u001b[0m     indexer \u001b[38;5;241m=\u001b[39m [indexer]\n",
      "File \u001b[1;32me:\\Projects\\liquid_domains\\liquid_domains_env\\Lib\\site-packages\\pandas\\core\\indexes\\range.py:417\u001b[0m, in \u001b[0;36mRangeIndex.get_loc\u001b[1;34m(self, key)\u001b[0m\n\u001b[0;32m    415\u001b[0m         \u001b[38;5;28;01mraise\u001b[39;00m \u001b[38;5;167;01mKeyError\u001b[39;00m(key) \u001b[38;5;28;01mfrom\u001b[39;00m \u001b[38;5;21;01merr\u001b[39;00m\n\u001b[0;32m    416\u001b[0m \u001b[38;5;28;01mif\u001b[39;00m \u001b[38;5;28misinstance\u001b[39m(key, Hashable):\n\u001b[1;32m--> 417\u001b[0m     \u001b[38;5;28;01mraise\u001b[39;00m \u001b[38;5;167;01mKeyError\u001b[39;00m(key)\n\u001b[0;32m    418\u001b[0m \u001b[38;5;28mself\u001b[39m\u001b[38;5;241m.\u001b[39m_check_indexing_error(key)\n\u001b[0;32m    419\u001b[0m \u001b[38;5;28;01mraise\u001b[39;00m \u001b[38;5;167;01mKeyError\u001b[39;00m(key)\n",
      "\u001b[1;31mKeyError\u001b[0m: 'success'"
     ]
    }
   ],
   "source": [
    "node['call_success'] = node['success'].apply(lambda x: 1 if x else 0)\n",
    "node['call_fail'] = node['success'].apply(lambda x: 0 if x else 1)\n",
    "\n",
    "# Drop the original 'success' column if no longer needed\n",
    "node = node.drop(columns=['success'])"
   ]
  },
  {
   "cell_type": "code",
   "execution_count": null,
   "metadata": {},
   "outputs": [],
   "source": [
    "base_consumer['timestamp'] = pd.to_datetime(base_consumer['timestamp'])\n",
    "op_consumer['timestamp'] = pd.to_datetime(op_consumer['timestamp'])\n",
    "node['timestamp'] = pd.to_datetime(node['timestamp'])"
   ]
  },
  {
   "cell_type": "code",
   "execution_count": null,
   "metadata": {},
   "outputs": [
    {
     "name": "stdout",
     "output_type": "stream",
     "text": [
      "                     hourly  call_success  call_fail\n",
      "0 2024-08-08 03:00:00+00:00             1          0\n",
      "1 2024-08-08 04:00:00+00:00             1          0\n",
      "2 2024-08-08 05:00:00+00:00             5          0\n",
      "3 2024-08-08 06:00:00+00:00             2          0\n",
      "4 2024-08-09 04:00:00+00:00             2          0\n"
     ]
    },
    {
     "name": "stderr",
     "output_type": "stream",
     "text": [
      "C:\\Users\\brandyns pc\\AppData\\Local\\Temp\\ipykernel_48268\\1498039094.py:1: FutureWarning:\n",
      "\n",
      "'H' is deprecated and will be removed in a future version, please use 'h' instead.\n",
      "\n"
     ]
    }
   ],
   "source": [
    "base_consumer['hourly'] = base_consumer['timestamp'].dt.floor('H')\n",
    "\n",
    "# Step 2: Group by the hourly timestamp and sum the success counts\n",
    "hourly_aggregated = base_consumer.groupby('hourly')[['call_success','call_fail']].sum().reset_index()\n",
    "\n",
    "# Display the result\n",
    "print(hourly_aggregated)"
   ]
  },
  {
   "cell_type": "code",
   "execution_count": null,
   "metadata": {},
   "outputs": [
    {
     "name": "stdout",
     "output_type": "stream",
     "text": [
      "                     hourly  call_success  call_fail\n",
      "0 2024-08-06 22:00:00+00:00             3          0\n",
      "1 2024-08-06 23:00:00+00:00            16          0\n",
      "2 2024-08-08 06:00:00+00:00             2          0\n",
      "3 2024-08-08 21:00:00+00:00             4          0\n",
      "4 2024-08-08 23:00:00+00:00             2          0\n"
     ]
    },
    {
     "name": "stderr",
     "output_type": "stream",
     "text": [
      "C:\\Users\\brandyns pc\\AppData\\Local\\Temp\\ipykernel_48268\\3394169483.py:1: FutureWarning:\n",
      "\n",
      "'H' is deprecated and will be removed in a future version, please use 'h' instead.\n",
      "\n"
     ]
    }
   ],
   "source": [
    "op_consumer['hourly'] = op_consumer['timestamp'].dt.floor('H')\n",
    "\n",
    "# Step 2: Group by the hourly timestamp and sum the success counts\n",
    "op_hourly_aggregated = op_consumer.groupby('hourly')[['call_success','call_fail']].sum().reset_index()\n",
    "\n",
    "# Display the result\n",
    "print(op_hourly_aggregated)"
   ]
  },
  {
   "cell_type": "code",
   "execution_count": null,
   "metadata": {},
   "outputs": [
    {
     "name": "stdout",
     "output_type": "stream",
     "text": [
      "                     hourly  call_success  call_fail\n",
      "0 2024-08-06 22:00:00+00:00             3          0\n",
      "1 2024-08-06 23:00:00+00:00            16          0\n",
      "2 2024-08-08 06:00:00+00:00             2          0\n",
      "3 2024-08-08 21:00:00+00:00             4          0\n",
      "4 2024-08-08 23:00:00+00:00             2          0\n"
     ]
    },
    {
     "name": "stderr",
     "output_type": "stream",
     "text": [
      "C:\\Users\\brandyns pc\\AppData\\Local\\Temp\\ipykernel_48268\\3394169483.py:1: FutureWarning:\n",
      "\n",
      "'H' is deprecated and will be removed in a future version, please use 'h' instead.\n",
      "\n"
     ]
    }
   ],
   "source": [
    "node['hourly'] = node['timestamp'].dt.floor('H')\n",
    "\n",
    "# Step 2: Group by the hourly timestamp and sum the success counts\n",
    "node_hourly_aggregated = node.groupby('hourly')[['call_success','call_fail']].sum().reset_index()\n",
    "\n",
    "# Display the result\n",
    "print(node_hourly_aggregated)"
   ]
  },
  {
   "cell_type": "code",
   "execution_count": null,
   "metadata": {},
   "outputs": [
    {
     "name": "stdout",
     "output_type": "stream",
     "text": [
      "                      hourly  call_success  call_fail\n",
      "0  2024-08-08 03:00:00+00:00           1.0        0.0\n",
      "1  2024-08-08 04:00:00+00:00           1.0        0.0\n",
      "2  2024-08-08 05:00:00+00:00           5.0        0.0\n",
      "3  2024-08-08 06:00:00+00:00           2.0        0.0\n",
      "4  2024-08-08 07:00:00+00:00           0.0        0.0\n",
      "5  2024-08-08 08:00:00+00:00           0.0        0.0\n",
      "6  2024-08-08 09:00:00+00:00           0.0        0.0\n",
      "7  2024-08-08 10:00:00+00:00           0.0        0.0\n",
      "8  2024-08-08 11:00:00+00:00           0.0        0.0\n",
      "9  2024-08-08 12:00:00+00:00           0.0        0.0\n",
      "10 2024-08-08 13:00:00+00:00           0.0        0.0\n",
      "11 2024-08-08 14:00:00+00:00           0.0        0.0\n",
      "12 2024-08-08 15:00:00+00:00           0.0        0.0\n",
      "13 2024-08-08 16:00:00+00:00           0.0        0.0\n",
      "14 2024-08-08 17:00:00+00:00           0.0        0.0\n",
      "15 2024-08-08 18:00:00+00:00           0.0        0.0\n",
      "16 2024-08-08 19:00:00+00:00           0.0        0.0\n",
      "17 2024-08-08 20:00:00+00:00           0.0        0.0\n",
      "18 2024-08-08 21:00:00+00:00           0.0        0.0\n",
      "19 2024-08-08 22:00:00+00:00           0.0        0.0\n",
      "20 2024-08-08 23:00:00+00:00           0.0        0.0\n",
      "21 2024-08-09 00:00:00+00:00           0.0        0.0\n",
      "22 2024-08-09 01:00:00+00:00           0.0        0.0\n",
      "23 2024-08-09 02:00:00+00:00           0.0        0.0\n",
      "24 2024-08-09 03:00:00+00:00           0.0        0.0\n",
      "25 2024-08-09 04:00:00+00:00           2.0        0.0\n"
     ]
    },
    {
     "name": "stderr",
     "output_type": "stream",
     "text": [
      "C:\\Users\\brandyns pc\\AppData\\Local\\Temp\\ipykernel_48268\\1280086061.py:5: FutureWarning:\n",
      "\n",
      "'H' is deprecated and will be removed in a future version, please use 'h' instead.\n",
      "\n"
     ]
    }
   ],
   "source": [
    "import pandas as pd\n",
    "\n",
    "# Assuming hourly_aggregated is the DataFrame we created earlier\n",
    "# Create a complete range of hourly timestamps\n",
    "full_range = pd.date_range(start=hourly_aggregated['hourly'].min(), \n",
    "                           end=hourly_aggregated['hourly'].max(), \n",
    "                           freq='H')\n",
    "\n",
    "# Convert to DataFrame\n",
    "full_range_df = pd.DataFrame(full_range, columns=['hourly'])\n",
    "\n",
    "# Merge the full range with the aggregated data\n",
    "hourly_filled = pd.merge(full_range_df, hourly_aggregated, on='hourly', how='left')\n",
    "\n",
    "# Fill missing success counts with 0\n",
    "hourly_filled['call_success'] = hourly_filled['call_success'].fillna(0)\n",
    "hourly_filled['call_fail'] = hourly_filled['call_fail'].fillna(0)\n",
    "\n",
    "\n",
    "# Display the result\n",
    "print(hourly_filled)\n"
   ]
  },
  {
   "cell_type": "code",
   "execution_count": null,
   "metadata": {},
   "outputs": [
    {
     "name": "stdout",
     "output_type": "stream",
     "text": [
      "                      hourly  call_success  call_fail\n",
      "0  2024-08-06 22:00:00+00:00           3.0        0.0\n",
      "1  2024-08-06 23:00:00+00:00          16.0        0.0\n",
      "2  2024-08-07 00:00:00+00:00           0.0        0.0\n",
      "3  2024-08-07 01:00:00+00:00           0.0        0.0\n",
      "4  2024-08-07 02:00:00+00:00           0.0        0.0\n",
      "5  2024-08-07 03:00:00+00:00           0.0        0.0\n",
      "6  2024-08-07 04:00:00+00:00           0.0        0.0\n",
      "7  2024-08-07 05:00:00+00:00           0.0        0.0\n",
      "8  2024-08-07 06:00:00+00:00           0.0        0.0\n",
      "9  2024-08-07 07:00:00+00:00           0.0        0.0\n",
      "10 2024-08-07 08:00:00+00:00           0.0        0.0\n",
      "11 2024-08-07 09:00:00+00:00           0.0        0.0\n",
      "12 2024-08-07 10:00:00+00:00           0.0        0.0\n",
      "13 2024-08-07 11:00:00+00:00           0.0        0.0\n",
      "14 2024-08-07 12:00:00+00:00           0.0        0.0\n",
      "15 2024-08-07 13:00:00+00:00           0.0        0.0\n",
      "16 2024-08-07 14:00:00+00:00           0.0        0.0\n",
      "17 2024-08-07 15:00:00+00:00           0.0        0.0\n",
      "18 2024-08-07 16:00:00+00:00           0.0        0.0\n",
      "19 2024-08-07 17:00:00+00:00           0.0        0.0\n",
      "20 2024-08-07 18:00:00+00:00           0.0        0.0\n",
      "21 2024-08-07 19:00:00+00:00           0.0        0.0\n",
      "22 2024-08-07 20:00:00+00:00           0.0        0.0\n",
      "23 2024-08-07 21:00:00+00:00           0.0        0.0\n",
      "24 2024-08-07 22:00:00+00:00           0.0        0.0\n",
      "25 2024-08-07 23:00:00+00:00           0.0        0.0\n",
      "26 2024-08-08 00:00:00+00:00           0.0        0.0\n",
      "27 2024-08-08 01:00:00+00:00           0.0        0.0\n",
      "28 2024-08-08 02:00:00+00:00           0.0        0.0\n",
      "29 2024-08-08 03:00:00+00:00           0.0        0.0\n",
      "30 2024-08-08 04:00:00+00:00           0.0        0.0\n",
      "31 2024-08-08 05:00:00+00:00           0.0        0.0\n",
      "32 2024-08-08 06:00:00+00:00           2.0        0.0\n",
      "33 2024-08-08 07:00:00+00:00           0.0        0.0\n",
      "34 2024-08-08 08:00:00+00:00           0.0        0.0\n",
      "35 2024-08-08 09:00:00+00:00           0.0        0.0\n",
      "36 2024-08-08 10:00:00+00:00           0.0        0.0\n",
      "37 2024-08-08 11:00:00+00:00           0.0        0.0\n",
      "38 2024-08-08 12:00:00+00:00           0.0        0.0\n",
      "39 2024-08-08 13:00:00+00:00           0.0        0.0\n",
      "40 2024-08-08 14:00:00+00:00           0.0        0.0\n",
      "41 2024-08-08 15:00:00+00:00           0.0        0.0\n",
      "42 2024-08-08 16:00:00+00:00           0.0        0.0\n",
      "43 2024-08-08 17:00:00+00:00           0.0        0.0\n",
      "44 2024-08-08 18:00:00+00:00           0.0        0.0\n",
      "45 2024-08-08 19:00:00+00:00           0.0        0.0\n",
      "46 2024-08-08 20:00:00+00:00           0.0        0.0\n",
      "47 2024-08-08 21:00:00+00:00           4.0        0.0\n",
      "48 2024-08-08 22:00:00+00:00           0.0        0.0\n",
      "49 2024-08-08 23:00:00+00:00           2.0        0.0\n"
     ]
    },
    {
     "name": "stderr",
     "output_type": "stream",
     "text": [
      "C:\\Users\\brandyns pc\\AppData\\Local\\Temp\\ipykernel_48268\\2781388024.py:5: FutureWarning:\n",
      "\n",
      "'H' is deprecated and will be removed in a future version, please use 'h' instead.\n",
      "\n"
     ]
    }
   ],
   "source": [
    "import pandas as pd\n",
    "\n",
    "# Assuming hourly_aggregated is the DataFrame we created earlier\n",
    "# Create a complete range of hourly timestamps\n",
    "op_full_range = pd.date_range(start=op_hourly_aggregated['hourly'].min(), \n",
    "                           end=op_hourly_aggregated['hourly'].max(), \n",
    "                           freq='H')\n",
    "\n",
    "# Convert to DataFrame\n",
    "op_full_range_df = pd.DataFrame(op_full_range, columns=['hourly'])\n",
    "\n",
    "# Merge the full range with the aggregated data\n",
    "op_hourly_filled = pd.merge(op_full_range_df, op_hourly_aggregated, on='hourly', how='left')\n",
    "\n",
    "# Fill missing success counts with 0\n",
    "op_hourly_filled['call_success'] = op_hourly_filled['call_success'].fillna(0)\n",
    "op_hourly_filled['call_fail'] = op_hourly_filled['call_fail'].fillna(0)\n",
    "\n",
    "\n",
    "# Display the result\n",
    "print(op_hourly_filled)\n"
   ]
  },
  {
   "cell_type": "code",
   "execution_count": null,
   "metadata": {},
   "outputs": [
    {
     "ename": "NameError",
     "evalue": "name 'node_hourly_aggregated' is not defined",
     "output_type": "error",
     "traceback": [
      "\u001b[1;31m---------------------------------------------------------------------------\u001b[0m",
      "\u001b[1;31mNameError\u001b[0m                                 Traceback (most recent call last)",
      "Cell \u001b[1;32mIn[4], line 5\u001b[0m\n\u001b[0;32m      1\u001b[0m \u001b[38;5;28;01mimport\u001b[39;00m \u001b[38;5;21;01mpandas\u001b[39;00m \u001b[38;5;28;01mas\u001b[39;00m \u001b[38;5;21;01mpd\u001b[39;00m\n\u001b[0;32m      3\u001b[0m \u001b[38;5;66;03m# Assuming hourly_aggregated is the DataFrame we created earlier\u001b[39;00m\n\u001b[0;32m      4\u001b[0m \u001b[38;5;66;03m# Create a complete range of hourly timestamps\u001b[39;00m\n\u001b[1;32m----> 5\u001b[0m node_full_range \u001b[38;5;241m=\u001b[39m pd\u001b[38;5;241m.\u001b[39mdate_range(start\u001b[38;5;241m=\u001b[39m\u001b[43mnode_hourly_aggregated\u001b[49m[\u001b[38;5;124m'\u001b[39m\u001b[38;5;124mhourly\u001b[39m\u001b[38;5;124m'\u001b[39m]\u001b[38;5;241m.\u001b[39mmin(), \n\u001b[0;32m      6\u001b[0m                            end\u001b[38;5;241m=\u001b[39mnode_hourly_aggregated[\u001b[38;5;124m'\u001b[39m\u001b[38;5;124mhourly\u001b[39m\u001b[38;5;124m'\u001b[39m]\u001b[38;5;241m.\u001b[39mmax(), \n\u001b[0;32m      7\u001b[0m                            freq\u001b[38;5;241m=\u001b[39m\u001b[38;5;124m'\u001b[39m\u001b[38;5;124mH\u001b[39m\u001b[38;5;124m'\u001b[39m)\n\u001b[0;32m      9\u001b[0m \u001b[38;5;66;03m# Convert to DataFrame\u001b[39;00m\n\u001b[0;32m     10\u001b[0m node_full_range_df \u001b[38;5;241m=\u001b[39m pd\u001b[38;5;241m.\u001b[39mDataFrame(node_full_range, columns\u001b[38;5;241m=\u001b[39m[\u001b[38;5;124m'\u001b[39m\u001b[38;5;124mhourly\u001b[39m\u001b[38;5;124m'\u001b[39m])\n",
      "\u001b[1;31mNameError\u001b[0m: name 'node_hourly_aggregated' is not defined"
     ]
    }
   ],
   "source": [
    "import pandas as pd\n",
    "\n",
    "# Assuming hourly_aggregated is the DataFrame we created earlier\n",
    "# Create a complete range of hourly timestamps\n",
    "node_full_range = pd.date_range(start=node_hourly_aggregated['hourly'].min(), \n",
    "                           end=node_hourly_aggregated['hourly'].max(), \n",
    "                           freq='H')\n",
    "\n",
    "# Convert to DataFrame\n",
    "node_full_range_df = pd.DataFrame(node_full_range, columns=['hourly'])\n",
    "\n",
    "# Merge the full range with the aggregated data\n",
    "node_hourly_filled = pd.merge(node_full_range_df, node_hourly_aggregated, on='hourly', how='left')\n",
    "\n",
    "# Fill missing success counts with 0\n",
    "node_hourly_filled['call_success'] = node_hourly_filled['call_success'].fillna(0)\n",
    "node_hourly_filled['call_fail'] = node_hourly_filled['call_fail'].fillna(0)\n",
    "\n",
    "\n",
    "# Display the result\n",
    "print(node_hourly_filled)\n"
   ]
  },
  {
   "cell_type": "code",
   "execution_count": null,
   "metadata": {},
   "outputs": [
    {
     "data": {
      "application/vnd.plotly.v1+json": {
       "config": {
        "plotlyServerURL": "https://plot.ly"
       },
       "data": [
        {
         "name": "Successful Calls",
         "type": "bar",
         "x": [
          "2024-08-08T03:00:00+00:00",
          "2024-08-08T04:00:00+00:00",
          "2024-08-08T05:00:00+00:00",
          "2024-08-08T06:00:00+00:00",
          "2024-08-08T07:00:00+00:00",
          "2024-08-08T08:00:00+00:00",
          "2024-08-08T09:00:00+00:00",
          "2024-08-08T10:00:00+00:00",
          "2024-08-08T11:00:00+00:00",
          "2024-08-08T12:00:00+00:00",
          "2024-08-08T13:00:00+00:00",
          "2024-08-08T14:00:00+00:00",
          "2024-08-08T15:00:00+00:00",
          "2024-08-08T16:00:00+00:00",
          "2024-08-08T17:00:00+00:00",
          "2024-08-08T18:00:00+00:00",
          "2024-08-08T19:00:00+00:00",
          "2024-08-08T20:00:00+00:00",
          "2024-08-08T21:00:00+00:00",
          "2024-08-08T22:00:00+00:00",
          "2024-08-08T23:00:00+00:00",
          "2024-08-09T00:00:00+00:00",
          "2024-08-09T01:00:00+00:00",
          "2024-08-09T02:00:00+00:00",
          "2024-08-09T03:00:00+00:00",
          "2024-08-09T04:00:00+00:00"
         ],
         "xaxis": "x",
         "y": [
          1,
          1,
          5,
          2,
          0,
          0,
          0,
          0,
          0,
          0,
          0,
          0,
          0,
          0,
          0,
          0,
          0,
          0,
          0,
          0,
          0,
          0,
          0,
          0,
          0,
          2
         ],
         "yaxis": "y"
        },
        {
         "name": "Failed Calls",
         "type": "bar",
         "x": [
          "2024-08-08T03:00:00+00:00",
          "2024-08-08T04:00:00+00:00",
          "2024-08-08T05:00:00+00:00",
          "2024-08-08T06:00:00+00:00",
          "2024-08-08T07:00:00+00:00",
          "2024-08-08T08:00:00+00:00",
          "2024-08-08T09:00:00+00:00",
          "2024-08-08T10:00:00+00:00",
          "2024-08-08T11:00:00+00:00",
          "2024-08-08T12:00:00+00:00",
          "2024-08-08T13:00:00+00:00",
          "2024-08-08T14:00:00+00:00",
          "2024-08-08T15:00:00+00:00",
          "2024-08-08T16:00:00+00:00",
          "2024-08-08T17:00:00+00:00",
          "2024-08-08T18:00:00+00:00",
          "2024-08-08T19:00:00+00:00",
          "2024-08-08T20:00:00+00:00",
          "2024-08-08T21:00:00+00:00",
          "2024-08-08T22:00:00+00:00",
          "2024-08-08T23:00:00+00:00",
          "2024-08-09T00:00:00+00:00",
          "2024-08-09T01:00:00+00:00",
          "2024-08-09T02:00:00+00:00",
          "2024-08-09T03:00:00+00:00",
          "2024-08-09T04:00:00+00:00"
         ],
         "xaxis": "x",
         "y": [
          0,
          0,
          0,
          0,
          0,
          0,
          0,
          0,
          0,
          0,
          0,
          0,
          0,
          0,
          0,
          0,
          0,
          0,
          0,
          0,
          0,
          0,
          0,
          0,
          0,
          0
         ],
         "yaxis": "y"
        }
       ],
       "layout": {
        "barmode": "stack",
        "legend": {
         "bgcolor": "rgba(0,0,0,0)",
         "orientation": "h",
         "x": 0.01,
         "xanchor": "left",
         "y": 1.1,
         "yanchor": "top"
        },
        "paper_bgcolor": "rgba(0,0,0,0)",
        "plot_bgcolor": "rgba(0,0,0,0)",
        "template": {
         "data": {
          "bar": [
           {
            "error_x": {
             "color": "#2a3f5f"
            },
            "error_y": {
             "color": "#2a3f5f"
            },
            "marker": {
             "line": {
              "color": "#E5ECF6",
              "width": 0.5
             },
             "pattern": {
              "fillmode": "overlay",
              "size": 10,
              "solidity": 0.2
             }
            },
            "type": "bar"
           }
          ],
          "barpolar": [
           {
            "marker": {
             "line": {
              "color": "#E5ECF6",
              "width": 0.5
             },
             "pattern": {
              "fillmode": "overlay",
              "size": 10,
              "solidity": 0.2
             }
            },
            "type": "barpolar"
           }
          ],
          "carpet": [
           {
            "aaxis": {
             "endlinecolor": "#2a3f5f",
             "gridcolor": "white",
             "linecolor": "white",
             "minorgridcolor": "white",
             "startlinecolor": "#2a3f5f"
            },
            "baxis": {
             "endlinecolor": "#2a3f5f",
             "gridcolor": "white",
             "linecolor": "white",
             "minorgridcolor": "white",
             "startlinecolor": "#2a3f5f"
            },
            "type": "carpet"
           }
          ],
          "choropleth": [
           {
            "colorbar": {
             "outlinewidth": 0,
             "ticks": ""
            },
            "type": "choropleth"
           }
          ],
          "contour": [
           {
            "colorbar": {
             "outlinewidth": 0,
             "ticks": ""
            },
            "colorscale": [
             [
              0,
              "#0d0887"
             ],
             [
              0.1111111111111111,
              "#46039f"
             ],
             [
              0.2222222222222222,
              "#7201a8"
             ],
             [
              0.3333333333333333,
              "#9c179e"
             ],
             [
              0.4444444444444444,
              "#bd3786"
             ],
             [
              0.5555555555555556,
              "#d8576b"
             ],
             [
              0.6666666666666666,
              "#ed7953"
             ],
             [
              0.7777777777777778,
              "#fb9f3a"
             ],
             [
              0.8888888888888888,
              "#fdca26"
             ],
             [
              1,
              "#f0f921"
             ]
            ],
            "type": "contour"
           }
          ],
          "contourcarpet": [
           {
            "colorbar": {
             "outlinewidth": 0,
             "ticks": ""
            },
            "type": "contourcarpet"
           }
          ],
          "heatmap": [
           {
            "colorbar": {
             "outlinewidth": 0,
             "ticks": ""
            },
            "colorscale": [
             [
              0,
              "#0d0887"
             ],
             [
              0.1111111111111111,
              "#46039f"
             ],
             [
              0.2222222222222222,
              "#7201a8"
             ],
             [
              0.3333333333333333,
              "#9c179e"
             ],
             [
              0.4444444444444444,
              "#bd3786"
             ],
             [
              0.5555555555555556,
              "#d8576b"
             ],
             [
              0.6666666666666666,
              "#ed7953"
             ],
             [
              0.7777777777777778,
              "#fb9f3a"
             ],
             [
              0.8888888888888888,
              "#fdca26"
             ],
             [
              1,
              "#f0f921"
             ]
            ],
            "type": "heatmap"
           }
          ],
          "heatmapgl": [
           {
            "colorbar": {
             "outlinewidth": 0,
             "ticks": ""
            },
            "colorscale": [
             [
              0,
              "#0d0887"
             ],
             [
              0.1111111111111111,
              "#46039f"
             ],
             [
              0.2222222222222222,
              "#7201a8"
             ],
             [
              0.3333333333333333,
              "#9c179e"
             ],
             [
              0.4444444444444444,
              "#bd3786"
             ],
             [
              0.5555555555555556,
              "#d8576b"
             ],
             [
              0.6666666666666666,
              "#ed7953"
             ],
             [
              0.7777777777777778,
              "#fb9f3a"
             ],
             [
              0.8888888888888888,
              "#fdca26"
             ],
             [
              1,
              "#f0f921"
             ]
            ],
            "type": "heatmapgl"
           }
          ],
          "histogram": [
           {
            "marker": {
             "pattern": {
              "fillmode": "overlay",
              "size": 10,
              "solidity": 0.2
             }
            },
            "type": "histogram"
           }
          ],
          "histogram2d": [
           {
            "colorbar": {
             "outlinewidth": 0,
             "ticks": ""
            },
            "colorscale": [
             [
              0,
              "#0d0887"
             ],
             [
              0.1111111111111111,
              "#46039f"
             ],
             [
              0.2222222222222222,
              "#7201a8"
             ],
             [
              0.3333333333333333,
              "#9c179e"
             ],
             [
              0.4444444444444444,
              "#bd3786"
             ],
             [
              0.5555555555555556,
              "#d8576b"
             ],
             [
              0.6666666666666666,
              "#ed7953"
             ],
             [
              0.7777777777777778,
              "#fb9f3a"
             ],
             [
              0.8888888888888888,
              "#fdca26"
             ],
             [
              1,
              "#f0f921"
             ]
            ],
            "type": "histogram2d"
           }
          ],
          "histogram2dcontour": [
           {
            "colorbar": {
             "outlinewidth": 0,
             "ticks": ""
            },
            "colorscale": [
             [
              0,
              "#0d0887"
             ],
             [
              0.1111111111111111,
              "#46039f"
             ],
             [
              0.2222222222222222,
              "#7201a8"
             ],
             [
              0.3333333333333333,
              "#9c179e"
             ],
             [
              0.4444444444444444,
              "#bd3786"
             ],
             [
              0.5555555555555556,
              "#d8576b"
             ],
             [
              0.6666666666666666,
              "#ed7953"
             ],
             [
              0.7777777777777778,
              "#fb9f3a"
             ],
             [
              0.8888888888888888,
              "#fdca26"
             ],
             [
              1,
              "#f0f921"
             ]
            ],
            "type": "histogram2dcontour"
           }
          ],
          "mesh3d": [
           {
            "colorbar": {
             "outlinewidth": 0,
             "ticks": ""
            },
            "type": "mesh3d"
           }
          ],
          "parcoords": [
           {
            "line": {
             "colorbar": {
              "outlinewidth": 0,
              "ticks": ""
             }
            },
            "type": "parcoords"
           }
          ],
          "pie": [
           {
            "automargin": true,
            "type": "pie"
           }
          ],
          "scatter": [
           {
            "fillpattern": {
             "fillmode": "overlay",
             "size": 10,
             "solidity": 0.2
            },
            "type": "scatter"
           }
          ],
          "scatter3d": [
           {
            "line": {
             "colorbar": {
              "outlinewidth": 0,
              "ticks": ""
             }
            },
            "marker": {
             "colorbar": {
              "outlinewidth": 0,
              "ticks": ""
             }
            },
            "type": "scatter3d"
           }
          ],
          "scattercarpet": [
           {
            "marker": {
             "colorbar": {
              "outlinewidth": 0,
              "ticks": ""
             }
            },
            "type": "scattercarpet"
           }
          ],
          "scattergeo": [
           {
            "marker": {
             "colorbar": {
              "outlinewidth": 0,
              "ticks": ""
             }
            },
            "type": "scattergeo"
           }
          ],
          "scattergl": [
           {
            "marker": {
             "colorbar": {
              "outlinewidth": 0,
              "ticks": ""
             }
            },
            "type": "scattergl"
           }
          ],
          "scattermapbox": [
           {
            "marker": {
             "colorbar": {
              "outlinewidth": 0,
              "ticks": ""
             }
            },
            "type": "scattermapbox"
           }
          ],
          "scatterpolar": [
           {
            "marker": {
             "colorbar": {
              "outlinewidth": 0,
              "ticks": ""
             }
            },
            "type": "scatterpolar"
           }
          ],
          "scatterpolargl": [
           {
            "marker": {
             "colorbar": {
              "outlinewidth": 0,
              "ticks": ""
             }
            },
            "type": "scatterpolargl"
           }
          ],
          "scatterternary": [
           {
            "marker": {
             "colorbar": {
              "outlinewidth": 0,
              "ticks": ""
             }
            },
            "type": "scatterternary"
           }
          ],
          "surface": [
           {
            "colorbar": {
             "outlinewidth": 0,
             "ticks": ""
            },
            "colorscale": [
             [
              0,
              "#0d0887"
             ],
             [
              0.1111111111111111,
              "#46039f"
             ],
             [
              0.2222222222222222,
              "#7201a8"
             ],
             [
              0.3333333333333333,
              "#9c179e"
             ],
             [
              0.4444444444444444,
              "#bd3786"
             ],
             [
              0.5555555555555556,
              "#d8576b"
             ],
             [
              0.6666666666666666,
              "#ed7953"
             ],
             [
              0.7777777777777778,
              "#fb9f3a"
             ],
             [
              0.8888888888888888,
              "#fdca26"
             ],
             [
              1,
              "#f0f921"
             ]
            ],
            "type": "surface"
           }
          ],
          "table": [
           {
            "cells": {
             "fill": {
              "color": "#EBF0F8"
             },
             "line": {
              "color": "white"
             }
            },
            "header": {
             "fill": {
              "color": "#C8D4E3"
             },
             "line": {
              "color": "white"
             }
            },
            "type": "table"
           }
          ]
         },
         "layout": {
          "annotationdefaults": {
           "arrowcolor": "#2a3f5f",
           "arrowhead": 0,
           "arrowwidth": 1
          },
          "autotypenumbers": "strict",
          "coloraxis": {
           "colorbar": {
            "outlinewidth": 0,
            "ticks": ""
           }
          },
          "colorscale": {
           "diverging": [
            [
             0,
             "#8e0152"
            ],
            [
             0.1,
             "#c51b7d"
            ],
            [
             0.2,
             "#de77ae"
            ],
            [
             0.3,
             "#f1b6da"
            ],
            [
             0.4,
             "#fde0ef"
            ],
            [
             0.5,
             "#f7f7f7"
            ],
            [
             0.6,
             "#e6f5d0"
            ],
            [
             0.7,
             "#b8e186"
            ],
            [
             0.8,
             "#7fbc41"
            ],
            [
             0.9,
             "#4d9221"
            ],
            [
             1,
             "#276419"
            ]
           ],
           "sequential": [
            [
             0,
             "#0d0887"
            ],
            [
             0.1111111111111111,
             "#46039f"
            ],
            [
             0.2222222222222222,
             "#7201a8"
            ],
            [
             0.3333333333333333,
             "#9c179e"
            ],
            [
             0.4444444444444444,
             "#bd3786"
            ],
            [
             0.5555555555555556,
             "#d8576b"
            ],
            [
             0.6666666666666666,
             "#ed7953"
            ],
            [
             0.7777777777777778,
             "#fb9f3a"
            ],
            [
             0.8888888888888888,
             "#fdca26"
            ],
            [
             1,
             "#f0f921"
            ]
           ],
           "sequentialminus": [
            [
             0,
             "#0d0887"
            ],
            [
             0.1111111111111111,
             "#46039f"
            ],
            [
             0.2222222222222222,
             "#7201a8"
            ],
            [
             0.3333333333333333,
             "#9c179e"
            ],
            [
             0.4444444444444444,
             "#bd3786"
            ],
            [
             0.5555555555555556,
             "#d8576b"
            ],
            [
             0.6666666666666666,
             "#ed7953"
            ],
            [
             0.7777777777777778,
             "#fb9f3a"
            ],
            [
             0.8888888888888888,
             "#fdca26"
            ],
            [
             1,
             "#f0f921"
            ]
           ]
          },
          "colorway": [
           "#636efa",
           "#EF553B",
           "#00cc96",
           "#ab63fa",
           "#FFA15A",
           "#19d3f3",
           "#FF6692",
           "#B6E880",
           "#FF97FF",
           "#FECB52"
          ],
          "font": {
           "color": "#2a3f5f"
          },
          "geo": {
           "bgcolor": "white",
           "lakecolor": "white",
           "landcolor": "#E5ECF6",
           "showlakes": true,
           "showland": true,
           "subunitcolor": "white"
          },
          "hoverlabel": {
           "align": "left"
          },
          "hovermode": "closest",
          "mapbox": {
           "style": "light"
          },
          "paper_bgcolor": "white",
          "plot_bgcolor": "#E5ECF6",
          "polar": {
           "angularaxis": {
            "gridcolor": "white",
            "linecolor": "white",
            "ticks": ""
           },
           "bgcolor": "#E5ECF6",
           "radialaxis": {
            "gridcolor": "white",
            "linecolor": "white",
            "ticks": ""
           }
          },
          "scene": {
           "xaxis": {
            "backgroundcolor": "#E5ECF6",
            "gridcolor": "white",
            "gridwidth": 2,
            "linecolor": "white",
            "showbackground": true,
            "ticks": "",
            "zerolinecolor": "white"
           },
           "yaxis": {
            "backgroundcolor": "#E5ECF6",
            "gridcolor": "white",
            "gridwidth": 2,
            "linecolor": "white",
            "showbackground": true,
            "ticks": "",
            "zerolinecolor": "white"
           },
           "zaxis": {
            "backgroundcolor": "#E5ECF6",
            "gridcolor": "white",
            "gridwidth": 2,
            "linecolor": "white",
            "showbackground": true,
            "ticks": "",
            "zerolinecolor": "white"
           }
          },
          "shapedefaults": {
           "line": {
            "color": "#2a3f5f"
           }
          },
          "ternary": {
           "aaxis": {
            "gridcolor": "white",
            "linecolor": "white",
            "ticks": ""
           },
           "baxis": {
            "gridcolor": "white",
            "linecolor": "white",
            "ticks": ""
           },
           "bgcolor": "#E5ECF6",
           "caxis": {
            "gridcolor": "white",
            "linecolor": "white",
            "ticks": ""
           }
          },
          "title": {
           "x": 0.05
          },
          "xaxis": {
           "automargin": true,
           "gridcolor": "white",
           "linecolor": "white",
           "ticks": "",
           "title": {
            "standoff": 15
           },
           "zerolinecolor": "white",
           "zerolinewidth": 2
          },
          "yaxis": {
           "automargin": true,
           "gridcolor": "white",
           "linecolor": "white",
           "ticks": "",
           "title": {
            "standoff": 15
           },
           "zerolinecolor": "white",
           "zerolinewidth": 2
          }
         }
        },
        "title": {
         "text": "Base-Sepolia Chainlink Calls per Hour"
        },
        "xaxis": {
         "anchor": "y",
         "domain": [
          0,
          0.94
         ]
        },
        "yaxis": {
         "anchor": "x",
         "domain": [
          0,
          1
         ]
        },
        "yaxis2": {
         "anchor": "x",
         "overlaying": "y",
         "side": "right"
        }
       }
      }
     },
     "metadata": {},
     "output_type": "display_data"
    }
   ],
   "source": [
    "base_sepolia_chart = make_subplots(specs=[[{\"secondary_y\": True}]])\n",
    "        \n",
    "base_sepolia_chart.add_trace(\n",
    "    go.Bar(\n",
    "        x=hourly_filled['hourly'],\n",
    "        y=hourly_filled['call_success'],\n",
    "        name='Successful Calls',\n",
    "    ),\n",
    "    secondary_y=False\n",
    ")\n",
    "\n",
    "base_sepolia_chart.add_trace(\n",
    "    go.Bar(\n",
    "        x=hourly_filled['hourly'],\n",
    "        y=hourly_filled['call_fail'],\n",
    "        name='Failed Calls',\n",
    "    ),\n",
    "    secondary_y=False\n",
    ")\n",
    "\n",
    "base_sepolia_chart.update_layout(\n",
    "    barmode='stack',\n",
    "    legend=dict(yanchor=\"top\", y=1.1, xanchor=\"left\", x=0.01,orientation=\"h\",bgcolor='rgba(0,0,0,0)'\n",
    "), plot_bgcolor='rgba(0,0,0,0)',\n",
    "    paper_bgcolor='rgba(0,0,0,0)')\n",
    "base_sepolia_chart.update_layout(\n",
    "    title='Base-Sepolia Chainlink Calls per Hour',\n",
    "    # barmode='group'  # Set the bar mode to either 'group' for side-by-side or 'stack' for stacked\n",
    ")\n",
    "\n",
    "base_sepolia_chart.show()"
   ]
  },
  {
   "cell_type": "code",
   "execution_count": null,
   "metadata": {},
   "outputs": [
    {
     "data": {
      "application/vnd.plotly.v1+json": {
       "config": {
        "plotlyServerURL": "https://plot.ly"
       },
       "data": [
        {
         "name": "Successful Calls",
         "type": "bar",
         "x": [
          "2024-08-06T22:00:00+00:00",
          "2024-08-06T23:00:00+00:00",
          "2024-08-07T00:00:00+00:00",
          "2024-08-07T01:00:00+00:00",
          "2024-08-07T02:00:00+00:00",
          "2024-08-07T03:00:00+00:00",
          "2024-08-07T04:00:00+00:00",
          "2024-08-07T05:00:00+00:00",
          "2024-08-07T06:00:00+00:00",
          "2024-08-07T07:00:00+00:00",
          "2024-08-07T08:00:00+00:00",
          "2024-08-07T09:00:00+00:00",
          "2024-08-07T10:00:00+00:00",
          "2024-08-07T11:00:00+00:00",
          "2024-08-07T12:00:00+00:00",
          "2024-08-07T13:00:00+00:00",
          "2024-08-07T14:00:00+00:00",
          "2024-08-07T15:00:00+00:00",
          "2024-08-07T16:00:00+00:00",
          "2024-08-07T17:00:00+00:00",
          "2024-08-07T18:00:00+00:00",
          "2024-08-07T19:00:00+00:00",
          "2024-08-07T20:00:00+00:00",
          "2024-08-07T21:00:00+00:00",
          "2024-08-07T22:00:00+00:00",
          "2024-08-07T23:00:00+00:00",
          "2024-08-08T00:00:00+00:00",
          "2024-08-08T01:00:00+00:00",
          "2024-08-08T02:00:00+00:00",
          "2024-08-08T03:00:00+00:00",
          "2024-08-08T04:00:00+00:00",
          "2024-08-08T05:00:00+00:00",
          "2024-08-08T06:00:00+00:00",
          "2024-08-08T07:00:00+00:00",
          "2024-08-08T08:00:00+00:00",
          "2024-08-08T09:00:00+00:00",
          "2024-08-08T10:00:00+00:00",
          "2024-08-08T11:00:00+00:00",
          "2024-08-08T12:00:00+00:00",
          "2024-08-08T13:00:00+00:00",
          "2024-08-08T14:00:00+00:00",
          "2024-08-08T15:00:00+00:00",
          "2024-08-08T16:00:00+00:00",
          "2024-08-08T17:00:00+00:00",
          "2024-08-08T18:00:00+00:00",
          "2024-08-08T19:00:00+00:00",
          "2024-08-08T20:00:00+00:00",
          "2024-08-08T21:00:00+00:00",
          "2024-08-08T22:00:00+00:00",
          "2024-08-08T23:00:00+00:00"
         ],
         "xaxis": "x",
         "y": [
          3,
          16,
          0,
          0,
          0,
          0,
          0,
          0,
          0,
          0,
          0,
          0,
          0,
          0,
          0,
          0,
          0,
          0,
          0,
          0,
          0,
          0,
          0,
          0,
          0,
          0,
          0,
          0,
          0,
          0,
          0,
          0,
          2,
          0,
          0,
          0,
          0,
          0,
          0,
          0,
          0,
          0,
          0,
          0,
          0,
          0,
          0,
          4,
          0,
          2
         ],
         "yaxis": "y"
        },
        {
         "name": "Failed Calls",
         "type": "bar",
         "x": [
          "2024-08-06T22:00:00+00:00",
          "2024-08-06T23:00:00+00:00",
          "2024-08-07T00:00:00+00:00",
          "2024-08-07T01:00:00+00:00",
          "2024-08-07T02:00:00+00:00",
          "2024-08-07T03:00:00+00:00",
          "2024-08-07T04:00:00+00:00",
          "2024-08-07T05:00:00+00:00",
          "2024-08-07T06:00:00+00:00",
          "2024-08-07T07:00:00+00:00",
          "2024-08-07T08:00:00+00:00",
          "2024-08-07T09:00:00+00:00",
          "2024-08-07T10:00:00+00:00",
          "2024-08-07T11:00:00+00:00",
          "2024-08-07T12:00:00+00:00",
          "2024-08-07T13:00:00+00:00",
          "2024-08-07T14:00:00+00:00",
          "2024-08-07T15:00:00+00:00",
          "2024-08-07T16:00:00+00:00",
          "2024-08-07T17:00:00+00:00",
          "2024-08-07T18:00:00+00:00",
          "2024-08-07T19:00:00+00:00",
          "2024-08-07T20:00:00+00:00",
          "2024-08-07T21:00:00+00:00",
          "2024-08-07T22:00:00+00:00",
          "2024-08-07T23:00:00+00:00",
          "2024-08-08T00:00:00+00:00",
          "2024-08-08T01:00:00+00:00",
          "2024-08-08T02:00:00+00:00",
          "2024-08-08T03:00:00+00:00",
          "2024-08-08T04:00:00+00:00",
          "2024-08-08T05:00:00+00:00",
          "2024-08-08T06:00:00+00:00",
          "2024-08-08T07:00:00+00:00",
          "2024-08-08T08:00:00+00:00",
          "2024-08-08T09:00:00+00:00",
          "2024-08-08T10:00:00+00:00",
          "2024-08-08T11:00:00+00:00",
          "2024-08-08T12:00:00+00:00",
          "2024-08-08T13:00:00+00:00",
          "2024-08-08T14:00:00+00:00",
          "2024-08-08T15:00:00+00:00",
          "2024-08-08T16:00:00+00:00",
          "2024-08-08T17:00:00+00:00",
          "2024-08-08T18:00:00+00:00",
          "2024-08-08T19:00:00+00:00",
          "2024-08-08T20:00:00+00:00",
          "2024-08-08T21:00:00+00:00",
          "2024-08-08T22:00:00+00:00",
          "2024-08-08T23:00:00+00:00"
         ],
         "xaxis": "x",
         "y": [
          0,
          0,
          0,
          0,
          0,
          0,
          0,
          0,
          0,
          0,
          0,
          0,
          0,
          0,
          0,
          0,
          0,
          0,
          0,
          0,
          0,
          0,
          0,
          0,
          0,
          0,
          0,
          0,
          0,
          0,
          0,
          0,
          0,
          0,
          0,
          0,
          0,
          0,
          0,
          0,
          0,
          0,
          0,
          0,
          0,
          0,
          0,
          0,
          0,
          0
         ],
         "yaxis": "y"
        }
       ],
       "layout": {
        "barmode": "stack",
        "legend": {
         "bgcolor": "rgba(0,0,0,0)",
         "orientation": "h",
         "x": 0.01,
         "xanchor": "left",
         "y": 1.1,
         "yanchor": "top"
        },
        "paper_bgcolor": "rgba(0,0,0,0)",
        "plot_bgcolor": "rgba(0,0,0,0)",
        "template": {
         "data": {
          "bar": [
           {
            "error_x": {
             "color": "#2a3f5f"
            },
            "error_y": {
             "color": "#2a3f5f"
            },
            "marker": {
             "line": {
              "color": "#E5ECF6",
              "width": 0.5
             },
             "pattern": {
              "fillmode": "overlay",
              "size": 10,
              "solidity": 0.2
             }
            },
            "type": "bar"
           }
          ],
          "barpolar": [
           {
            "marker": {
             "line": {
              "color": "#E5ECF6",
              "width": 0.5
             },
             "pattern": {
              "fillmode": "overlay",
              "size": 10,
              "solidity": 0.2
             }
            },
            "type": "barpolar"
           }
          ],
          "carpet": [
           {
            "aaxis": {
             "endlinecolor": "#2a3f5f",
             "gridcolor": "white",
             "linecolor": "white",
             "minorgridcolor": "white",
             "startlinecolor": "#2a3f5f"
            },
            "baxis": {
             "endlinecolor": "#2a3f5f",
             "gridcolor": "white",
             "linecolor": "white",
             "minorgridcolor": "white",
             "startlinecolor": "#2a3f5f"
            },
            "type": "carpet"
           }
          ],
          "choropleth": [
           {
            "colorbar": {
             "outlinewidth": 0,
             "ticks": ""
            },
            "type": "choropleth"
           }
          ],
          "contour": [
           {
            "colorbar": {
             "outlinewidth": 0,
             "ticks": ""
            },
            "colorscale": [
             [
              0,
              "#0d0887"
             ],
             [
              0.1111111111111111,
              "#46039f"
             ],
             [
              0.2222222222222222,
              "#7201a8"
             ],
             [
              0.3333333333333333,
              "#9c179e"
             ],
             [
              0.4444444444444444,
              "#bd3786"
             ],
             [
              0.5555555555555556,
              "#d8576b"
             ],
             [
              0.6666666666666666,
              "#ed7953"
             ],
             [
              0.7777777777777778,
              "#fb9f3a"
             ],
             [
              0.8888888888888888,
              "#fdca26"
             ],
             [
              1,
              "#f0f921"
             ]
            ],
            "type": "contour"
           }
          ],
          "contourcarpet": [
           {
            "colorbar": {
             "outlinewidth": 0,
             "ticks": ""
            },
            "type": "contourcarpet"
           }
          ],
          "heatmap": [
           {
            "colorbar": {
             "outlinewidth": 0,
             "ticks": ""
            },
            "colorscale": [
             [
              0,
              "#0d0887"
             ],
             [
              0.1111111111111111,
              "#46039f"
             ],
             [
              0.2222222222222222,
              "#7201a8"
             ],
             [
              0.3333333333333333,
              "#9c179e"
             ],
             [
              0.4444444444444444,
              "#bd3786"
             ],
             [
              0.5555555555555556,
              "#d8576b"
             ],
             [
              0.6666666666666666,
              "#ed7953"
             ],
             [
              0.7777777777777778,
              "#fb9f3a"
             ],
             [
              0.8888888888888888,
              "#fdca26"
             ],
             [
              1,
              "#f0f921"
             ]
            ],
            "type": "heatmap"
           }
          ],
          "heatmapgl": [
           {
            "colorbar": {
             "outlinewidth": 0,
             "ticks": ""
            },
            "colorscale": [
             [
              0,
              "#0d0887"
             ],
             [
              0.1111111111111111,
              "#46039f"
             ],
             [
              0.2222222222222222,
              "#7201a8"
             ],
             [
              0.3333333333333333,
              "#9c179e"
             ],
             [
              0.4444444444444444,
              "#bd3786"
             ],
             [
              0.5555555555555556,
              "#d8576b"
             ],
             [
              0.6666666666666666,
              "#ed7953"
             ],
             [
              0.7777777777777778,
              "#fb9f3a"
             ],
             [
              0.8888888888888888,
              "#fdca26"
             ],
             [
              1,
              "#f0f921"
             ]
            ],
            "type": "heatmapgl"
           }
          ],
          "histogram": [
           {
            "marker": {
             "pattern": {
              "fillmode": "overlay",
              "size": 10,
              "solidity": 0.2
             }
            },
            "type": "histogram"
           }
          ],
          "histogram2d": [
           {
            "colorbar": {
             "outlinewidth": 0,
             "ticks": ""
            },
            "colorscale": [
             [
              0,
              "#0d0887"
             ],
             [
              0.1111111111111111,
              "#46039f"
             ],
             [
              0.2222222222222222,
              "#7201a8"
             ],
             [
              0.3333333333333333,
              "#9c179e"
             ],
             [
              0.4444444444444444,
              "#bd3786"
             ],
             [
              0.5555555555555556,
              "#d8576b"
             ],
             [
              0.6666666666666666,
              "#ed7953"
             ],
             [
              0.7777777777777778,
              "#fb9f3a"
             ],
             [
              0.8888888888888888,
              "#fdca26"
             ],
             [
              1,
              "#f0f921"
             ]
            ],
            "type": "histogram2d"
           }
          ],
          "histogram2dcontour": [
           {
            "colorbar": {
             "outlinewidth": 0,
             "ticks": ""
            },
            "colorscale": [
             [
              0,
              "#0d0887"
             ],
             [
              0.1111111111111111,
              "#46039f"
             ],
             [
              0.2222222222222222,
              "#7201a8"
             ],
             [
              0.3333333333333333,
              "#9c179e"
             ],
             [
              0.4444444444444444,
              "#bd3786"
             ],
             [
              0.5555555555555556,
              "#d8576b"
             ],
             [
              0.6666666666666666,
              "#ed7953"
             ],
             [
              0.7777777777777778,
              "#fb9f3a"
             ],
             [
              0.8888888888888888,
              "#fdca26"
             ],
             [
              1,
              "#f0f921"
             ]
            ],
            "type": "histogram2dcontour"
           }
          ],
          "mesh3d": [
           {
            "colorbar": {
             "outlinewidth": 0,
             "ticks": ""
            },
            "type": "mesh3d"
           }
          ],
          "parcoords": [
           {
            "line": {
             "colorbar": {
              "outlinewidth": 0,
              "ticks": ""
             }
            },
            "type": "parcoords"
           }
          ],
          "pie": [
           {
            "automargin": true,
            "type": "pie"
           }
          ],
          "scatter": [
           {
            "fillpattern": {
             "fillmode": "overlay",
             "size": 10,
             "solidity": 0.2
            },
            "type": "scatter"
           }
          ],
          "scatter3d": [
           {
            "line": {
             "colorbar": {
              "outlinewidth": 0,
              "ticks": ""
             }
            },
            "marker": {
             "colorbar": {
              "outlinewidth": 0,
              "ticks": ""
             }
            },
            "type": "scatter3d"
           }
          ],
          "scattercarpet": [
           {
            "marker": {
             "colorbar": {
              "outlinewidth": 0,
              "ticks": ""
             }
            },
            "type": "scattercarpet"
           }
          ],
          "scattergeo": [
           {
            "marker": {
             "colorbar": {
              "outlinewidth": 0,
              "ticks": ""
             }
            },
            "type": "scattergeo"
           }
          ],
          "scattergl": [
           {
            "marker": {
             "colorbar": {
              "outlinewidth": 0,
              "ticks": ""
             }
            },
            "type": "scattergl"
           }
          ],
          "scattermapbox": [
           {
            "marker": {
             "colorbar": {
              "outlinewidth": 0,
              "ticks": ""
             }
            },
            "type": "scattermapbox"
           }
          ],
          "scatterpolar": [
           {
            "marker": {
             "colorbar": {
              "outlinewidth": 0,
              "ticks": ""
             }
            },
            "type": "scatterpolar"
           }
          ],
          "scatterpolargl": [
           {
            "marker": {
             "colorbar": {
              "outlinewidth": 0,
              "ticks": ""
             }
            },
            "type": "scatterpolargl"
           }
          ],
          "scatterternary": [
           {
            "marker": {
             "colorbar": {
              "outlinewidth": 0,
              "ticks": ""
             }
            },
            "type": "scatterternary"
           }
          ],
          "surface": [
           {
            "colorbar": {
             "outlinewidth": 0,
             "ticks": ""
            },
            "colorscale": [
             [
              0,
              "#0d0887"
             ],
             [
              0.1111111111111111,
              "#46039f"
             ],
             [
              0.2222222222222222,
              "#7201a8"
             ],
             [
              0.3333333333333333,
              "#9c179e"
             ],
             [
              0.4444444444444444,
              "#bd3786"
             ],
             [
              0.5555555555555556,
              "#d8576b"
             ],
             [
              0.6666666666666666,
              "#ed7953"
             ],
             [
              0.7777777777777778,
              "#fb9f3a"
             ],
             [
              0.8888888888888888,
              "#fdca26"
             ],
             [
              1,
              "#f0f921"
             ]
            ],
            "type": "surface"
           }
          ],
          "table": [
           {
            "cells": {
             "fill": {
              "color": "#EBF0F8"
             },
             "line": {
              "color": "white"
             }
            },
            "header": {
             "fill": {
              "color": "#C8D4E3"
             },
             "line": {
              "color": "white"
             }
            },
            "type": "table"
           }
          ]
         },
         "layout": {
          "annotationdefaults": {
           "arrowcolor": "#2a3f5f",
           "arrowhead": 0,
           "arrowwidth": 1
          },
          "autotypenumbers": "strict",
          "coloraxis": {
           "colorbar": {
            "outlinewidth": 0,
            "ticks": ""
           }
          },
          "colorscale": {
           "diverging": [
            [
             0,
             "#8e0152"
            ],
            [
             0.1,
             "#c51b7d"
            ],
            [
             0.2,
             "#de77ae"
            ],
            [
             0.3,
             "#f1b6da"
            ],
            [
             0.4,
             "#fde0ef"
            ],
            [
             0.5,
             "#f7f7f7"
            ],
            [
             0.6,
             "#e6f5d0"
            ],
            [
             0.7,
             "#b8e186"
            ],
            [
             0.8,
             "#7fbc41"
            ],
            [
             0.9,
             "#4d9221"
            ],
            [
             1,
             "#276419"
            ]
           ],
           "sequential": [
            [
             0,
             "#0d0887"
            ],
            [
             0.1111111111111111,
             "#46039f"
            ],
            [
             0.2222222222222222,
             "#7201a8"
            ],
            [
             0.3333333333333333,
             "#9c179e"
            ],
            [
             0.4444444444444444,
             "#bd3786"
            ],
            [
             0.5555555555555556,
             "#d8576b"
            ],
            [
             0.6666666666666666,
             "#ed7953"
            ],
            [
             0.7777777777777778,
             "#fb9f3a"
            ],
            [
             0.8888888888888888,
             "#fdca26"
            ],
            [
             1,
             "#f0f921"
            ]
           ],
           "sequentialminus": [
            [
             0,
             "#0d0887"
            ],
            [
             0.1111111111111111,
             "#46039f"
            ],
            [
             0.2222222222222222,
             "#7201a8"
            ],
            [
             0.3333333333333333,
             "#9c179e"
            ],
            [
             0.4444444444444444,
             "#bd3786"
            ],
            [
             0.5555555555555556,
             "#d8576b"
            ],
            [
             0.6666666666666666,
             "#ed7953"
            ],
            [
             0.7777777777777778,
             "#fb9f3a"
            ],
            [
             0.8888888888888888,
             "#fdca26"
            ],
            [
             1,
             "#f0f921"
            ]
           ]
          },
          "colorway": [
           "#636efa",
           "#EF553B",
           "#00cc96",
           "#ab63fa",
           "#FFA15A",
           "#19d3f3",
           "#FF6692",
           "#B6E880",
           "#FF97FF",
           "#FECB52"
          ],
          "font": {
           "color": "#2a3f5f"
          },
          "geo": {
           "bgcolor": "white",
           "lakecolor": "white",
           "landcolor": "#E5ECF6",
           "showlakes": true,
           "showland": true,
           "subunitcolor": "white"
          },
          "hoverlabel": {
           "align": "left"
          },
          "hovermode": "closest",
          "mapbox": {
           "style": "light"
          },
          "paper_bgcolor": "white",
          "plot_bgcolor": "#E5ECF6",
          "polar": {
           "angularaxis": {
            "gridcolor": "white",
            "linecolor": "white",
            "ticks": ""
           },
           "bgcolor": "#E5ECF6",
           "radialaxis": {
            "gridcolor": "white",
            "linecolor": "white",
            "ticks": ""
           }
          },
          "scene": {
           "xaxis": {
            "backgroundcolor": "#E5ECF6",
            "gridcolor": "white",
            "gridwidth": 2,
            "linecolor": "white",
            "showbackground": true,
            "ticks": "",
            "zerolinecolor": "white"
           },
           "yaxis": {
            "backgroundcolor": "#E5ECF6",
            "gridcolor": "white",
            "gridwidth": 2,
            "linecolor": "white",
            "showbackground": true,
            "ticks": "",
            "zerolinecolor": "white"
           },
           "zaxis": {
            "backgroundcolor": "#E5ECF6",
            "gridcolor": "white",
            "gridwidth": 2,
            "linecolor": "white",
            "showbackground": true,
            "ticks": "",
            "zerolinecolor": "white"
           }
          },
          "shapedefaults": {
           "line": {
            "color": "#2a3f5f"
           }
          },
          "ternary": {
           "aaxis": {
            "gridcolor": "white",
            "linecolor": "white",
            "ticks": ""
           },
           "baxis": {
            "gridcolor": "white",
            "linecolor": "white",
            "ticks": ""
           },
           "bgcolor": "#E5ECF6",
           "caxis": {
            "gridcolor": "white",
            "linecolor": "white",
            "ticks": ""
           }
          },
          "title": {
           "x": 0.05
          },
          "xaxis": {
           "automargin": true,
           "gridcolor": "white",
           "linecolor": "white",
           "ticks": "",
           "title": {
            "standoff": 15
           },
           "zerolinecolor": "white",
           "zerolinewidth": 2
          },
          "yaxis": {
           "automargin": true,
           "gridcolor": "white",
           "linecolor": "white",
           "ticks": "",
           "title": {
            "standoff": 15
           },
           "zerolinecolor": "white",
           "zerolinewidth": 2
          }
         }
        },
        "title": {
         "text": "Optimism-Sepolia Chainlink Calls per Hour"
        },
        "xaxis": {
         "anchor": "y",
         "domain": [
          0,
          0.94
         ]
        },
        "yaxis": {
         "anchor": "x",
         "domain": [
          0,
          1
         ]
        },
        "yaxis2": {
         "anchor": "x",
         "overlaying": "y",
         "side": "right"
        }
       }
      }
     },
     "metadata": {},
     "output_type": "display_data"
    }
   ],
   "source": [
    "op_sepolia_chart = make_subplots(specs=[[{\"secondary_y\": True}]])\n",
    "        \n",
    "op_sepolia_chart.add_trace(\n",
    "    go.Bar(\n",
    "        x=op_hourly_filled['hourly'],\n",
    "        y=op_hourly_filled['call_success'],\n",
    "        name='Successful Calls',\n",
    "    ),\n",
    "    secondary_y=False\n",
    ")\n",
    "\n",
    "op_sepolia_chart.add_trace(\n",
    "    go.Bar(\n",
    "        x=op_hourly_filled['hourly'],\n",
    "        y=op_hourly_filled['call_fail'],\n",
    "        name='Failed Calls',\n",
    "    ),\n",
    "    secondary_y=False\n",
    ")\n",
    "\n",
    "op_sepolia_chart.update_layout(\n",
    "    barmode='stack',\n",
    "    legend=dict(yanchor=\"top\", y=1.1, xanchor=\"left\", x=0.01,orientation=\"h\",bgcolor='rgba(0,0,0,0)'\n",
    "), plot_bgcolor='rgba(0,0,0,0)',\n",
    "    paper_bgcolor='rgba(0,0,0,0)')\n",
    "op_sepolia_chart.update_layout(\n",
    "    title='Optimism-Sepolia Chainlink Calls per Hour',\n",
    "    # barmode='group'  # Set the bar mode to either 'group' for side-by-side or 'stack' for stacked\n",
    ")\n",
    "\n",
    "op_sepolia_chart.show()"
   ]
  },
  {
   "cell_type": "code",
   "execution_count": null,
   "metadata": {},
   "outputs": [
    {
     "ename": "NameError",
     "evalue": "name 'node_hourly_filled' is not defined",
     "output_type": "error",
     "traceback": [
      "\u001b[1;31m---------------------------------------------------------------------------\u001b[0m",
      "\u001b[1;31mNameError\u001b[0m                                 Traceback (most recent call last)",
      "Cell \u001b[1;32mIn[3], line 5\u001b[0m\n\u001b[0;32m      1\u001b[0m node_sepolia_chart \u001b[38;5;241m=\u001b[39m make_subplots(specs\u001b[38;5;241m=\u001b[39m[[{\u001b[38;5;124m\"\u001b[39m\u001b[38;5;124msecondary_y\u001b[39m\u001b[38;5;124m\"\u001b[39m: \u001b[38;5;28;01mTrue\u001b[39;00m}]])\n\u001b[0;32m      3\u001b[0m node_sepolia_chart\u001b[38;5;241m.\u001b[39madd_trace(\n\u001b[0;32m      4\u001b[0m     go\u001b[38;5;241m.\u001b[39mBar(\n\u001b[1;32m----> 5\u001b[0m         x\u001b[38;5;241m=\u001b[39m\u001b[43mnode_hourly_filled\u001b[49m[\u001b[38;5;124m'\u001b[39m\u001b[38;5;124mhourly\u001b[39m\u001b[38;5;124m'\u001b[39m],\n\u001b[0;32m      6\u001b[0m         y\u001b[38;5;241m=\u001b[39mnode_hourly_filled[\u001b[38;5;124m'\u001b[39m\u001b[38;5;124mcall_success\u001b[39m\u001b[38;5;124m'\u001b[39m],\n\u001b[0;32m      7\u001b[0m         name\u001b[38;5;241m=\u001b[39m\u001b[38;5;124m'\u001b[39m\u001b[38;5;124mSuccessful Calls\u001b[39m\u001b[38;5;124m'\u001b[39m,\n\u001b[0;32m      8\u001b[0m     ),\n\u001b[0;32m      9\u001b[0m     secondary_y\u001b[38;5;241m=\u001b[39m\u001b[38;5;28;01mFalse\u001b[39;00m\n\u001b[0;32m     10\u001b[0m )\n\u001b[0;32m     12\u001b[0m node_sepolia_chart\u001b[38;5;241m.\u001b[39madd_trace(\n\u001b[0;32m     13\u001b[0m     go\u001b[38;5;241m.\u001b[39mBar(\n\u001b[0;32m     14\u001b[0m         x\u001b[38;5;241m=\u001b[39mnode_hourly_filled[\u001b[38;5;124m'\u001b[39m\u001b[38;5;124mhourly\u001b[39m\u001b[38;5;124m'\u001b[39m],\n\u001b[1;32m   (...)\u001b[0m\n\u001b[0;32m     18\u001b[0m     secondary_y\u001b[38;5;241m=\u001b[39m\u001b[38;5;28;01mFalse\u001b[39;00m\n\u001b[0;32m     19\u001b[0m )\n\u001b[0;32m     21\u001b[0m node_sepolia_chart\u001b[38;5;241m.\u001b[39mupdate_layout(\n\u001b[0;32m     22\u001b[0m     barmode\u001b[38;5;241m=\u001b[39m\u001b[38;5;124m'\u001b[39m\u001b[38;5;124mstack\u001b[39m\u001b[38;5;124m'\u001b[39m,\n\u001b[0;32m     23\u001b[0m     legend\u001b[38;5;241m=\u001b[39m\u001b[38;5;28mdict\u001b[39m(yanchor\u001b[38;5;241m=\u001b[39m\u001b[38;5;124m\"\u001b[39m\u001b[38;5;124mtop\u001b[39m\u001b[38;5;124m\"\u001b[39m, y\u001b[38;5;241m=\u001b[39m\u001b[38;5;241m1.1\u001b[39m, xanchor\u001b[38;5;241m=\u001b[39m\u001b[38;5;124m\"\u001b[39m\u001b[38;5;124mleft\u001b[39m\u001b[38;5;124m\"\u001b[39m, x\u001b[38;5;241m=\u001b[39m\u001b[38;5;241m0.01\u001b[39m,orientation\u001b[38;5;241m=\u001b[39m\u001b[38;5;124m\"\u001b[39m\u001b[38;5;124mh\u001b[39m\u001b[38;5;124m\"\u001b[39m,bgcolor\u001b[38;5;241m=\u001b[39m\u001b[38;5;124m'\u001b[39m\u001b[38;5;124mrgba(0,0,0,0)\u001b[39m\u001b[38;5;124m'\u001b[39m\n\u001b[0;32m     24\u001b[0m ))\n",
      "\u001b[1;31mNameError\u001b[0m: name 'node_hourly_filled' is not defined"
     ]
    }
   ],
   "source": [
    "node_sepolia_chart = make_subplots(specs=[[{\"secondary_y\": True}]])\n",
    "        \n",
    "node_sepolia_chart.add_trace(\n",
    "    go.Bar(\n",
    "        x=node_hourly_filled['hourly'],\n",
    "        y=node_hourly_filled['call_success'],\n",
    "        name='Successful Calls',\n",
    "    ),\n",
    "    secondary_y=False\n",
    ")\n",
    "\n",
    "node_sepolia_chart.add_trace(\n",
    "    go.Bar(\n",
    "        x=node_hourly_filled['hourly'],\n",
    "        y=node_hourly_filled['call_fail'],\n",
    "        name='Failed Calls',\n",
    "    ),\n",
    "    secondary_y=False\n",
    ")\n",
    "\n",
    "node_sepolia_chart.update_layout(\n",
    "    barmode='stack',\n",
    "    legend=dict(yanchor=\"top\", y=1.1, xanchor=\"left\", x=0.01,orientation=\"h\",bgcolor='rgba(0,0,0,0)'\n",
    "))\n",
    "node_sepolia_chart.update_layout(\n",
    "    title='Chainlink Node Calls per Hour',\n",
    "    # barmode='group'  # Set the bar mode to either 'group' for side-by-side or 'stack' for stacked\n",
    ")\n",
    "\n",
    "node_sepolia_chart.show()"
   ]
  },
  {
   "cell_type": "code",
   "execution_count": null,
   "metadata": {},
   "outputs": [],
   "source": []
  }
 ],
 "metadata": {
  "kernelspec": {
   "display_name": "liquid_domains_env",
   "language": "python",
   "name": "liquid_domains_env"
  },
  "language_info": {
   "codemirror_mode": {
    "name": "ipython",
    "version": 3
   },
   "file_extension": ".py",
   "mimetype": "text/x-python",
   "name": "python",
   "nbconvert_exporter": "python",
   "pygments_lexer": "ipython3",
   "version": "3.11.9"
  }
 },
 "nbformat": 4,
 "nbformat_minor": 2
}
